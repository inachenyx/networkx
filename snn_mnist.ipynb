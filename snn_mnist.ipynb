{
 "cells": [
  {
   "metadata": {
    "ExecuteTime": {
     "end_time": "2025-04-30T07:42:43.542047Z",
     "start_time": "2025-04-30T07:42:34.286207Z"
    }
   },
   "cell_type": "code",
   "source": [
    "%pip install torchvision\n",
    "%pip install spikingjelly\n",
    "%pip install tensorboard"
   ],
   "id": "f7d0a542c3815911",
   "outputs": [
    {
     "name": "stdout",
     "output_type": "stream",
     "text": [
      "Requirement already satisfied: torchvision in /Users/chenyuxuan/POCT_repos/spike-interface/myvenv/lib/python3.12/site-packages (0.17.2)\r\n",
      "Requirement already satisfied: numpy in /Users/chenyuxuan/POCT_repos/spike-interface/myvenv/lib/python3.12/site-packages (from torchvision) (1.26.4)\r\n",
      "Requirement already satisfied: torch==2.2.2 in /Users/chenyuxuan/POCT_repos/spike-interface/myvenv/lib/python3.12/site-packages (from torchvision) (2.2.2)\r\n",
      "Requirement already satisfied: pillow!=8.3.*,>=5.3.0 in /Users/chenyuxuan/POCT_repos/spike-interface/myvenv/lib/python3.12/site-packages (from torchvision) (11.1.0)\r\n",
      "Requirement already satisfied: filelock in /Users/chenyuxuan/POCT_repos/spike-interface/myvenv/lib/python3.12/site-packages (from torch==2.2.2->torchvision) (3.17.0)\r\n",
      "Requirement already satisfied: typing-extensions>=4.8.0 in /Users/chenyuxuan/POCT_repos/spike-interface/myvenv/lib/python3.12/site-packages (from torch==2.2.2->torchvision) (4.12.2)\r\n",
      "Requirement already satisfied: sympy in /Users/chenyuxuan/POCT_repos/spike-interface/myvenv/lib/python3.12/site-packages (from torch==2.2.2->torchvision) (1.13.3)\r\n",
      "Requirement already satisfied: networkx in /Users/chenyuxuan/POCT_repos/spike-interface/myvenv/lib/python3.12/site-packages (from torch==2.2.2->torchvision) (3.4.2)\r\n",
      "Requirement already satisfied: jinja2 in /Users/chenyuxuan/POCT_repos/spike-interface/myvenv/lib/python3.12/site-packages (from torch==2.2.2->torchvision) (3.1.6)\r\n",
      "Requirement already satisfied: fsspec in /Users/chenyuxuan/POCT_repos/spike-interface/myvenv/lib/python3.12/site-packages (from torch==2.2.2->torchvision) (2025.2.0)\r\n",
      "Requirement already satisfied: MarkupSafe>=2.0 in /Users/chenyuxuan/POCT_repos/spike-interface/myvenv/lib/python3.12/site-packages (from jinja2->torch==2.2.2->torchvision) (3.0.2)\r\n",
      "Requirement already satisfied: mpmath<1.4,>=1.1.0 in /Users/chenyuxuan/POCT_repos/spike-interface/myvenv/lib/python3.12/site-packages (from sympy->torch==2.2.2->torchvision) (1.3.0)\r\n",
      "Note: you may need to restart the kernel to use updated packages.\n",
      "Requirement already satisfied: spikingjelly in /Users/chenyuxuan/POCT_repos/spike-interface/myvenv/lib/python3.12/site-packages (0.0.0.0.14)\r\n",
      "Requirement already satisfied: torch in /Users/chenyuxuan/POCT_repos/spike-interface/myvenv/lib/python3.12/site-packages (from spikingjelly) (2.2.2)\r\n",
      "Requirement already satisfied: matplotlib in /Users/chenyuxuan/POCT_repos/spike-interface/myvenv/lib/python3.12/site-packages (from spikingjelly) (3.10.1)\r\n",
      "Requirement already satisfied: numpy in /Users/chenyuxuan/POCT_repos/spike-interface/myvenv/lib/python3.12/site-packages (from spikingjelly) (1.26.4)\r\n",
      "Requirement already satisfied: tqdm in /Users/chenyuxuan/POCT_repos/spike-interface/myvenv/lib/python3.12/site-packages (from spikingjelly) (4.67.1)\r\n",
      "Requirement already satisfied: torchvision in /Users/chenyuxuan/POCT_repos/spike-interface/myvenv/lib/python3.12/site-packages (from spikingjelly) (0.17.2)\r\n",
      "Requirement already satisfied: scipy in /Users/chenyuxuan/POCT_repos/spike-interface/myvenv/lib/python3.12/site-packages (from spikingjelly) (1.15.2)\r\n",
      "Requirement already satisfied: contourpy>=1.0.1 in /Users/chenyuxuan/POCT_repos/spike-interface/myvenv/lib/python3.12/site-packages (from matplotlib->spikingjelly) (1.3.1)\r\n",
      "Requirement already satisfied: cycler>=0.10 in /Users/chenyuxuan/POCT_repos/spike-interface/myvenv/lib/python3.12/site-packages (from matplotlib->spikingjelly) (0.12.1)\r\n",
      "Requirement already satisfied: fonttools>=4.22.0 in /Users/chenyuxuan/POCT_repos/spike-interface/myvenv/lib/python3.12/site-packages (from matplotlib->spikingjelly) (4.56.0)\r\n",
      "Requirement already satisfied: kiwisolver>=1.3.1 in /Users/chenyuxuan/POCT_repos/spike-interface/myvenv/lib/python3.12/site-packages (from matplotlib->spikingjelly) (1.4.8)\r\n",
      "Requirement already satisfied: packaging>=20.0 in /Users/chenyuxuan/POCT_repos/spike-interface/myvenv/lib/python3.12/site-packages (from matplotlib->spikingjelly) (24.2)\r\n",
      "Requirement already satisfied: pillow>=8 in /Users/chenyuxuan/POCT_repos/spike-interface/myvenv/lib/python3.12/site-packages (from matplotlib->spikingjelly) (11.1.0)\r\n",
      "Requirement already satisfied: pyparsing>=2.3.1 in /Users/chenyuxuan/POCT_repos/spike-interface/myvenv/lib/python3.12/site-packages (from matplotlib->spikingjelly) (3.2.1)\r\n",
      "Requirement already satisfied: python-dateutil>=2.7 in /Users/chenyuxuan/POCT_repos/spike-interface/myvenv/lib/python3.12/site-packages (from matplotlib->spikingjelly) (2.9.0.post0)\r\n",
      "Requirement already satisfied: six>=1.5 in /Users/chenyuxuan/POCT_repos/spike-interface/myvenv/lib/python3.12/site-packages (from python-dateutil>=2.7->matplotlib->spikingjelly) (1.17.0)\r\n",
      "Requirement already satisfied: filelock in /Users/chenyuxuan/POCT_repos/spike-interface/myvenv/lib/python3.12/site-packages (from torch->spikingjelly) (3.17.0)\r\n",
      "Requirement already satisfied: typing-extensions>=4.8.0 in /Users/chenyuxuan/POCT_repos/spike-interface/myvenv/lib/python3.12/site-packages (from torch->spikingjelly) (4.12.2)\r\n",
      "Requirement already satisfied: sympy in /Users/chenyuxuan/POCT_repos/spike-interface/myvenv/lib/python3.12/site-packages (from torch->spikingjelly) (1.13.3)\r\n",
      "Requirement already satisfied: networkx in /Users/chenyuxuan/POCT_repos/spike-interface/myvenv/lib/python3.12/site-packages (from torch->spikingjelly) (3.4.2)\r\n",
      "Requirement already satisfied: jinja2 in /Users/chenyuxuan/POCT_repos/spike-interface/myvenv/lib/python3.12/site-packages (from torch->spikingjelly) (3.1.6)\r\n",
      "Requirement already satisfied: fsspec in /Users/chenyuxuan/POCT_repos/spike-interface/myvenv/lib/python3.12/site-packages (from torch->spikingjelly) (2025.2.0)\r\n",
      "Requirement already satisfied: MarkupSafe>=2.0 in /Users/chenyuxuan/POCT_repos/spike-interface/myvenv/lib/python3.12/site-packages (from jinja2->torch->spikingjelly) (3.0.2)\r\n",
      "Requirement already satisfied: mpmath<1.4,>=1.1.0 in /Users/chenyuxuan/POCT_repos/spike-interface/myvenv/lib/python3.12/site-packages (from sympy->torch->spikingjelly) (1.3.0)\r\n",
      "Note: you may need to restart the kernel to use updated packages.\n",
      "Collecting tensorboard\r\n",
      "  Using cached tensorboard-2.19.0-py3-none-any.whl.metadata (1.8 kB)\r\n",
      "Collecting absl-py>=0.4 (from tensorboard)\r\n",
      "  Using cached absl_py-2.2.2-py3-none-any.whl.metadata (2.6 kB)\r\n",
      "Collecting grpcio>=1.48.2 (from tensorboard)\r\n",
      "  Using cached grpcio-1.71.0-cp312-cp312-macosx_10_14_universal2.whl.metadata (3.8 kB)\r\n",
      "Collecting markdown>=2.6.8 (from tensorboard)\r\n",
      "  Using cached markdown-3.8-py3-none-any.whl.metadata (5.1 kB)\r\n",
      "Requirement already satisfied: numpy>=1.12.0 in /Users/chenyuxuan/POCT_repos/spike-interface/myvenv/lib/python3.12/site-packages (from tensorboard) (1.26.4)\r\n",
      "Requirement already satisfied: packaging in /Users/chenyuxuan/POCT_repos/spike-interface/myvenv/lib/python3.12/site-packages (from tensorboard) (24.2)\r\n",
      "Collecting protobuf!=4.24.0,>=3.19.6 (from tensorboard)\r\n",
      "  Using cached protobuf-6.30.2-cp39-abi3-macosx_10_9_universal2.whl.metadata (593 bytes)\r\n",
      "Requirement already satisfied: setuptools>=41.0.0 in /Users/chenyuxuan/POCT_repos/spike-interface/myvenv/lib/python3.12/site-packages (from tensorboard) (75.8.2)\r\n",
      "Requirement already satisfied: six>1.9 in /Users/chenyuxuan/POCT_repos/spike-interface/myvenv/lib/python3.12/site-packages (from tensorboard) (1.17.0)\r\n",
      "Collecting tensorboard-data-server<0.8.0,>=0.7.0 (from tensorboard)\r\n",
      "  Using cached tensorboard_data_server-0.7.2-py3-none-macosx_10_9_x86_64.whl.metadata (1.1 kB)\r\n",
      "Collecting werkzeug>=1.0.1 (from tensorboard)\r\n",
      "  Using cached werkzeug-3.1.3-py3-none-any.whl.metadata (3.7 kB)\r\n",
      "Requirement already satisfied: MarkupSafe>=2.1.1 in /Users/chenyuxuan/POCT_repos/spike-interface/myvenv/lib/python3.12/site-packages (from werkzeug>=1.0.1->tensorboard) (3.0.2)\r\n",
      "Using cached tensorboard-2.19.0-py3-none-any.whl (5.5 MB)\r\n",
      "Using cached tensorboard_data_server-0.7.2-py3-none-macosx_10_9_x86_64.whl (4.8 MB)\r\n",
      "Using cached absl_py-2.2.2-py3-none-any.whl (135 kB)\r\n",
      "Using cached grpcio-1.71.0-cp312-cp312-macosx_10_14_universal2.whl (11.3 MB)\r\n",
      "Using cached markdown-3.8-py3-none-any.whl (106 kB)\r\n",
      "Using cached protobuf-6.30.2-cp39-abi3-macosx_10_9_universal2.whl (417 kB)\r\n",
      "Using cached werkzeug-3.1.3-py3-none-any.whl (224 kB)\r\n",
      "Installing collected packages: werkzeug, tensorboard-data-server, protobuf, markdown, grpcio, absl-py, tensorboard\r\n",
      "\u001B[2K   \u001B[90m━━━━━━━━━━━━━━━━━━━━━━━━━━━━━━━━━━━━━━━━\u001B[0m \u001B[32m7/7\u001B[0m [tensorboard]\u001B[0m [tensorboard]\r\n",
      "\u001B[1A\u001B[2KSuccessfully installed absl-py-2.2.2 grpcio-1.71.0 markdown-3.8 protobuf-6.30.2 tensorboard-2.19.0 tensorboard-data-server-0.7.2 werkzeug-3.1.3\r\n",
      "Note: you may need to restart the kernel to use updated packages.\n"
     ]
    }
   ],
   "execution_count": 7
  },
  {
   "cell_type": "code",
   "id": "initial_id",
   "metadata": {
    "collapsed": true,
    "ExecuteTime": {
     "end_time": "2025-04-30T08:37:36.010907Z",
     "start_time": "2025-04-30T08:37:30.499479Z"
    }
   },
   "source": [
    "# spikingjelly.activation_based.examples.conv_fashion_mnist\n",
    "import matplotlib.pyplot as plt\n",
    "import torch\n",
    "import torch.nn as nn\n",
    "import torch.nn.functional as F\n",
    "import torchvision\n",
    "from spikingjelly.activation_based import neuron, functional, surrogate, layer\n",
    "from torch.utils.tensorboard import SummaryWriter\n",
    "import os\n",
    "import time\n",
    "import argparse\n",
    "from torch.cuda import amp\n",
    "import sys\n",
    "import datetime\n",
    "from spikingjelly import visualizing\n",
    "import torchvision.transforms as transforms\n",
    "from torchvision.datasets import FashionMNIST\n",
    "\n",
    "class CSNN(nn.Module):\n",
    "    def __init__(self, T: int, channels: int, use_cupy=False):\n",
    "        super().__init__()\n",
    "        self.T = T\n",
    "\n",
    "        self.conv_fc = nn.Sequential(\n",
    "        layer.Conv2d(1, channels, kernel_size=3, padding=1, bias=False),\n",
    "        layer.BatchNorm2d(channels),\n",
    "        neuron.IFNode(surrogate_function=surrogate.ATan()),\n",
    "        layer.MaxPool2d(2, 2),  # 14 * 14\n",
    "\n",
    "        layer.Conv2d(channels, channels, kernel_size=3, padding=1, bias=False),\n",
    "        layer.BatchNorm2d(channels),\n",
    "        neuron.IFNode(surrogate_function=surrogate.ATan()),\n",
    "        layer.MaxPool2d(2, 2),  # 7 * 7\n",
    "\n",
    "        layer.Flatten(),\n",
    "        layer.Linear(channels * 7 * 7, channels * 4 * 4, bias=False),\n",
    "        neuron.IFNode(surrogate_function=surrogate.ATan()),\n",
    "\n",
    "        layer.Linear(channels * 4 * 4, 10, bias=False),\n",
    "        neuron.IFNode(surrogate_function=surrogate.ATan()),\n",
    "        )\n",
    "\n",
    "        # For faster training speed\n",
    "        functional.set_step_mode(self, step_mode='m')\n",
    "\n",
    "        if use_cupy:\n",
    "            functional.set_backend(self, backend='cupy')\n",
    "\n",
    "    # Define the forward function\n",
    "    def forward(self, x: torch.Tensor):\n",
    "        # x.shape = [N, C, H, W]\n",
    "        x_seq = x.unsqueeze(0).repeat(self.T, 1, 1, 1, 1)  # [N, C, H, W] -> [T, N, C, H, W]\n",
    "        x_seq = self.conv_fc(x_seq)\n",
    "        fr = x_seq.mean(0)\n",
    "        return fr\n"
   ],
   "outputs": [],
   "execution_count": 1
  },
  {
   "metadata": {
    "ExecuteTime": {
     "end_time": "2025-04-30T08:38:50.664292Z",
     "start_time": "2025-04-30T08:38:50.649904Z"
    }
   },
   "cell_type": "code",
   "source": [
    "import argparse\n",
    "\n",
    "parser = argparse.ArgumentParser()\n",
    "parser.add_argument('--data_dir', type=str, default='./data')\n",
    "args = parser.parse_args()\n",
    "\n",
    "train_set = torchvision.datasets.FashionMNIST(\n",
    "    root=args.data_dir,\n",
    "    train=True,\n",
    "    transform=torchvision.transforms.ToTensor(),\n",
    "    download=True)\n",
    "\n",
    "test_set = torchvision.datasets.FashionMNIST(\n",
    "    root=args.data_dir,\n",
    "    train=False,\n",
    "    transform=torchvision.transforms.ToTensor(),\n",
    "    download=True)"
   ],
   "id": "90a35a6309fc5a40",
   "outputs": [
    {
     "name": "stderr",
     "output_type": "stream",
     "text": [
      "usage: ipykernel_launcher.py [-h] [--data_dir DATA_DIR]\n",
      "ipykernel_launcher.py: error: unrecognized arguments: -f /Users/chenyuxuan/Library/Jupyter/runtime/kernel-240f25d2-405f-4900-88e7-2d429d44bd7d.json\n"
     ]
    },
    {
     "ename": "SystemExit",
     "evalue": "2",
     "output_type": "error",
     "traceback": [
      "An exception has occurred, use %tb to see the full traceback.\n",
      "\u001B[31mSystemExit\u001B[39m\u001B[31m:\u001B[39m 2\n"
     ]
    },
    {
     "name": "stderr",
     "output_type": "stream",
     "text": [
      "/Users/chenyuxuan/POCT_repos/spike-interface/myvenv/lib/python3.12/site-packages/IPython/core/interactiveshell.py:3554: UserWarning: To exit: use 'exit', 'quit', or Ctrl-D.\n",
      "  warn(\"To exit: use 'exit', 'quit', or Ctrl-D.\", stacklevel=1)\n"
     ]
    }
   ],
   "execution_count": 3
  }
 ],
 "metadata": {
  "kernelspec": {
   "display_name": "Python 3",
   "language": "python",
   "name": "python3"
  },
  "language_info": {
   "codemirror_mode": {
    "name": "ipython",
    "version": 2
   },
   "file_extension": ".py",
   "mimetype": "text/x-python",
   "name": "python",
   "nbconvert_exporter": "python",
   "pygments_lexer": "ipython2",
   "version": "2.7.6"
  }
 },
 "nbformat": 4,
 "nbformat_minor": 5
}
